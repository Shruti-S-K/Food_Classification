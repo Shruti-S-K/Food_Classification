{
  "nbformat": 4,
  "nbformat_minor": 0,
  "metadata": {
    "colab": {
      "name": "Food Classification using VGG16 - Train | Transfer Learning.ipynb",
      "provenance": [],
      "collapsed_sections": []
    },
    "kernelspec": {
      "name": "python3",
      "display_name": "Python 3"
    },
    "language_info": {
      "name": "python"
    }
  },
  "cells": [
    {
      "cell_type": "code",
      "execution_count": 1,
      "metadata": {
        "id": "BS5j_cfYkAXp"
      },
      "outputs": [],
      "source": [
        "import numpy as np\n",
        "import pandas as pd\n",
        "import matplotlib.pyplot as plt\n",
        "import tensorflow\n",
        "from keras.models import Model\n",
        "from keras.layers import Dense, Flatten\n",
        "from keras.applications import vgg16\n",
        "from keras.preprocessing.image import ImageDataGenerator\n",
        "from keras.callbacks import ModelCheckpoint\n",
        "import os\n",
        "import pathlib"
      ]
    },
    {
      "cell_type": "code",
      "source": [
        "batch = 16"
      ],
      "metadata": {
        "id": "eE06o1AlmAmm"
      },
      "execution_count": 2,
      "outputs": []
    },
    {
      "cell_type": "code",
      "source": [
        "train_path = '/content/drive/MyDrive/CNN Practice Datasets/Food Classification/Training dataset'\n",
        "test_path = '/content/drive/MyDrive/CNN Practice Datasets/Food Classification/Testing dataset'"
      ],
      "metadata": {
        "id": "_nVSDl0omHWE"
      },
      "execution_count": 3,
      "outputs": []
    },
    {
      "cell_type": "code",
      "source": [
        "data_dir = pathlib.Path(train_path)"
      ],
      "metadata": {
        "id": "q--lMp_nmLZL"
      },
      "execution_count": 4,
      "outputs": []
    },
    {
      "cell_type": "code",
      "source": [
        "class_names = np.array([item.name for item in data_dir.glob('*')])\n",
        "class_names"
      ],
      "metadata": {
        "colab": {
          "base_uri": "https://localhost:8080/"
        },
        "id": "KLuoTM8MmSMd",
        "outputId": "9f0c2f64-3f7d-423e-e5ed-1d30343a35f9"
      },
      "execution_count": 5,
      "outputs": [
        {
          "output_type": "execute_result",
          "data": {
            "text/plain": [
              "array(['steak', 'cookies', 'burgers', 'hotdogs', 'toast', 'pizza',\n",
              "       'donuts', 'frenchfries', 'friedchicken', 'friedegg'], dtype='<U12')"
            ]
          },
          "metadata": {},
          "execution_count": 5
        }
      ]
    },
    {
      "cell_type": "code",
      "source": [
        "train_gen = ImageDataGenerator(rescale=1./255,validation_split=0.2).flow_from_directory(train_path,batch_size=batch,\\\n",
        "                                                                                        class_mode='sparse',\\\n",
        "                                                                                        target_size=(224, 224),\\\n",
        "                                                                                        classes=list(class_names),\\\n",
        "                                                                                        shuffle=True,\\\n",
        "                                                                                        subset='training')"
      ],
      "metadata": {
        "colab": {
          "base_uri": "https://localhost:8080/"
        },
        "id": "lLFFm7xbmh5r",
        "outputId": "819f4fbf-a04e-420d-e24d-2bafb3b77db1"
      },
      "execution_count": 6,
      "outputs": [
        {
          "output_type": "stream",
          "name": "stdout",
          "text": [
            "Found 399 images belonging to 10 classes.\n"
          ]
        }
      ]
    },
    {
      "cell_type": "code",
      "source": [
        "val_gen = ImageDataGenerator(rescale=1./255,validation_split=0.2).flow_from_directory(train_path,batch_size=batch,\\\n",
        "                                                                                        class_mode='sparse',\\\n",
        "                                                                                      target_size=(224, 224),\\\n",
        "                                                                                        classes=list(class_names),\\\n",
        "                                                                                        shuffle=True,\\\n",
        "                                                                                        subset='validation')"
      ],
      "metadata": {
        "colab": {
          "base_uri": "https://localhost:8080/"
        },
        "id": "7Ag6aze_vzq6",
        "outputId": "5ec28e9c-67b3-46a1-be67-bb263214443c"
      },
      "execution_count": 7,
      "outputs": [
        {
          "output_type": "stream",
          "name": "stdout",
          "text": [
            "Found 96 images belonging to 10 classes.\n"
          ]
        }
      ]
    },
    {
      "cell_type": "code",
      "source": [
        "transf_model = vgg16.VGG16(weights='imagenet',include_top=False,input_shape=(224,224,3))"
      ],
      "metadata": {
        "colab": {
          "base_uri": "https://localhost:8080/"
        },
        "id": "fuX6XLmNw2ZK",
        "outputId": "639f465b-3475-4c88-f5cd-8b3d6d63ebcd"
      },
      "execution_count": 8,
      "outputs": [
        {
          "output_type": "stream",
          "name": "stdout",
          "text": [
            "Downloading data from https://storage.googleapis.com/tensorflow/keras-applications/vgg16/vgg16_weights_tf_dim_ordering_tf_kernels_notop.h5\n",
            "58892288/58889256 [==============================] - 0s 0us/step\n",
            "58900480/58889256 [==============================] - 0s 0us/step\n"
          ]
        }
      ]
    },
    {
      "cell_type": "code",
      "source": [
        "model = Flatten()(transf_model.output)"
      ],
      "metadata": {
        "id": "KGOfpuPPxbuI"
      },
      "execution_count": 9,
      "outputs": []
    },
    {
      "cell_type": "code",
      "source": [
        "output = Dense(10,activation='softmax')(model)"
      ],
      "metadata": {
        "id": "ELSbCxnGxfT5"
      },
      "execution_count": 10,
      "outputs": []
    },
    {
      "cell_type": "code",
      "source": [
        "model = Model(inputs=transf_model.input,outputs = output)"
      ],
      "metadata": {
        "id": "IRpH5K54xnOR"
      },
      "execution_count": 11,
      "outputs": []
    },
    {
      "cell_type": "code",
      "source": [
        "for layer in transf_model.layers:\n",
        "  layer.trainable = False"
      ],
      "metadata": {
        "id": "PIOZGNYEx_Rc"
      },
      "execution_count": 12,
      "outputs": []
    },
    {
      "cell_type": "code",
      "source": [
        "model.summary()"
      ],
      "metadata": {
        "colab": {
          "base_uri": "https://localhost:8080/"
        },
        "id": "x4_ujZjIyAq6",
        "outputId": "f8892cd9-f925-4815-e0a5-294e76f7a692"
      },
      "execution_count": 13,
      "outputs": [
        {
          "output_type": "stream",
          "name": "stdout",
          "text": [
            "Model: \"model\"\n",
            "_________________________________________________________________\n",
            " Layer (type)                Output Shape              Param #   \n",
            "=================================================================\n",
            " input_1 (InputLayer)        [(None, 224, 224, 3)]     0         \n",
            "                                                                 \n",
            " block1_conv1 (Conv2D)       (None, 224, 224, 64)      1792      \n",
            "                                                                 \n",
            " block1_conv2 (Conv2D)       (None, 224, 224, 64)      36928     \n",
            "                                                                 \n",
            " block1_pool (MaxPooling2D)  (None, 112, 112, 64)      0         \n",
            "                                                                 \n",
            " block2_conv1 (Conv2D)       (None, 112, 112, 128)     73856     \n",
            "                                                                 \n",
            " block2_conv2 (Conv2D)       (None, 112, 112, 128)     147584    \n",
            "                                                                 \n",
            " block2_pool (MaxPooling2D)  (None, 56, 56, 128)       0         \n",
            "                                                                 \n",
            " block3_conv1 (Conv2D)       (None, 56, 56, 256)       295168    \n",
            "                                                                 \n",
            " block3_conv2 (Conv2D)       (None, 56, 56, 256)       590080    \n",
            "                                                                 \n",
            " block3_conv3 (Conv2D)       (None, 56, 56, 256)       590080    \n",
            "                                                                 \n",
            " block3_pool (MaxPooling2D)  (None, 28, 28, 256)       0         \n",
            "                                                                 \n",
            " block4_conv1 (Conv2D)       (None, 28, 28, 512)       1180160   \n",
            "                                                                 \n",
            " block4_conv2 (Conv2D)       (None, 28, 28, 512)       2359808   \n",
            "                                                                 \n",
            " block4_conv3 (Conv2D)       (None, 28, 28, 512)       2359808   \n",
            "                                                                 \n",
            " block4_pool (MaxPooling2D)  (None, 14, 14, 512)       0         \n",
            "                                                                 \n",
            " block5_conv1 (Conv2D)       (None, 14, 14, 512)       2359808   \n",
            "                                                                 \n",
            " block5_conv2 (Conv2D)       (None, 14, 14, 512)       2359808   \n",
            "                                                                 \n",
            " block5_conv3 (Conv2D)       (None, 14, 14, 512)       2359808   \n",
            "                                                                 \n",
            " block5_pool (MaxPooling2D)  (None, 7, 7, 512)         0         \n",
            "                                                                 \n",
            " flatten (Flatten)           (None, 25088)             0         \n",
            "                                                                 \n",
            " dense (Dense)               (None, 10)                250890    \n",
            "                                                                 \n",
            "=================================================================\n",
            "Total params: 14,965,578\n",
            "Trainable params: 250,890\n",
            "Non-trainable params: 14,714,688\n",
            "_________________________________________________________________\n"
          ]
        }
      ]
    },
    {
      "cell_type": "code",
      "source": [
        "model.compile(loss='sparse_categorical_crossentropy',optimizer='adam',metrics=['accuracy'])"
      ],
      "metadata": {
        "id": "SPGAs_oyySFO"
      },
      "execution_count": 14,
      "outputs": []
    },
    {
      "cell_type": "code",
      "source": [
        "checkpoint = ModelCheckpoint('vgg16_model.h5',save_best_only=True,verbose=1)"
      ],
      "metadata": {
        "id": "AoDEpY3aykMP"
      },
      "execution_count": 15,
      "outputs": []
    },
    {
      "cell_type": "code",
      "source": [
        "train_steps_per_epochs = np.ceil(train_gen.samples/batch)\n",
        "val_steps_per_epochs = np.ceil(val_gen.samples/batch)"
      ],
      "metadata": {
        "id": "5i-lgDYCyvyK"
      },
      "execution_count": 16,
      "outputs": []
    },
    {
      "cell_type": "code",
      "source": [
        "print(train_steps_per_epochs) # 399/16\n",
        "print(val_steps_per_epochs) # 96/16"
      ],
      "metadata": {
        "colab": {
          "base_uri": "https://localhost:8080/"
        },
        "id": "B2MtNeONy7fr",
        "outputId": "c7f14bf6-0e3c-4c3f-f3d4-eaa9f93ec157"
      },
      "execution_count": 17,
      "outputs": [
        {
          "output_type": "stream",
          "name": "stdout",
          "text": [
            "25.0\n",
            "6.0\n"
          ]
        }
      ]
    },
    {
      "cell_type": "code",
      "source": [
        "history = model.fit(train_gen,steps_per_epoch=train_steps_per_epochs,validation_data = val_gen,\\\n",
        "                              validation_steps = val_steps_per_epochs, epochs=5, verbose=1, callbacks=[checkpoint])"
      ],
      "metadata": {
        "colab": {
          "base_uri": "https://localhost:8080/"
        },
        "id": "s0ZpArgWy_fK",
        "outputId": "3a2a2da3-0c30-4cdc-c9f8-ede254108eea"
      },
      "execution_count": 18,
      "outputs": [
        {
          "output_type": "stream",
          "name": "stdout",
          "text": [
            "Epoch 1/5\n",
            "25/25 [==============================] - ETA: 0s - loss: 2.1252 - accuracy: 0.4035\n",
            "Epoch 1: val_loss improved from inf to 0.98979, saving model to vgg16_model.h5\n",
            "25/25 [==============================] - 270s 11s/step - loss: 2.1252 - accuracy: 0.4035 - val_loss: 0.9898 - val_accuracy: 0.5938\n",
            "Epoch 2/5\n",
            "25/25 [==============================] - ETA: 0s - loss: 0.1795 - accuracy: 0.9499\n",
            "Epoch 2: val_loss improved from 0.98979 to 0.65955, saving model to vgg16_model.h5\n",
            "25/25 [==============================] - 256s 10s/step - loss: 0.1795 - accuracy: 0.9499 - val_loss: 0.6595 - val_accuracy: 0.7604\n",
            "Epoch 3/5\n",
            "25/25 [==============================] - ETA: 0s - loss: 0.0390 - accuracy: 0.9975\n",
            "Epoch 3: val_loss did not improve from 0.65955\n",
            "25/25 [==============================] - 257s 10s/step - loss: 0.0390 - accuracy: 0.9975 - val_loss: 0.6684 - val_accuracy: 0.8229\n",
            "Epoch 4/5\n",
            "25/25 [==============================] - ETA: 0s - loss: 0.0175 - accuracy: 1.0000\n",
            "Epoch 4: val_loss improved from 0.65955 to 0.57986, saving model to vgg16_model.h5\n",
            "25/25 [==============================] - 257s 10s/step - loss: 0.0175 - accuracy: 1.0000 - val_loss: 0.5799 - val_accuracy: 0.7708\n",
            "Epoch 5/5\n",
            "25/25 [==============================] - ETA: 0s - loss: 0.0116 - accuracy: 1.0000\n",
            "Epoch 5: val_loss did not improve from 0.57986\n",
            "25/25 [==============================] - 255s 10s/step - loss: 0.0116 - accuracy: 1.0000 - val_loss: 0.5902 - val_accuracy: 0.7917\n"
          ]
        }
      ]
    },
    {
      "cell_type": "code",
      "source": [
        "model.load_weights(\"vgg16_model.h5\")"
      ],
      "metadata": {
        "id": "F8R4Bo5oohtV"
      },
      "execution_count": 19,
      "outputs": []
    },
    {
      "cell_type": "code",
      "source": [
        "evaluation = model.evaluate(val_gen) # steps per epoch"
      ],
      "metadata": {
        "colab": {
          "base_uri": "https://localhost:8080/"
        },
        "id": "4TuiZ530or94",
        "outputId": "6a275c09-8d7d-4c8c-b04c-1a484578d7d6"
      },
      "execution_count": 20,
      "outputs": [
        {
          "output_type": "stream",
          "name": "stdout",
          "text": [
            "6/6 [==============================] - 57s 10s/step - loss: 0.5799 - accuracy: 0.7708\n"
          ]
        }
      ]
    },
    {
      "cell_type": "code",
      "source": [
        "print(\"Val Loss:\", evaluation[0])\n",
        "print(\"Val Accuracy:\", evaluation[1]*100)"
      ],
      "metadata": {
        "colab": {
          "base_uri": "https://localhost:8080/"
        },
        "id": "KR4FP9TYpNGu",
        "outputId": "f169239f-f807-4b06-f8a8-5daad011b8f1"
      },
      "execution_count": 21,
      "outputs": [
        {
          "output_type": "stream",
          "name": "stdout",
          "text": [
            "Val Loss: 0.579863429069519\n",
            "Val Accuracy: 77.08333134651184\n"
          ]
        }
      ]
    },
    {
      "cell_type": "code",
      "source": [
        "acc = history.history['accuracy']\n",
        "val_acc = history.history['val_accuracy']"
      ],
      "metadata": {
        "id": "k8L1FJbRpQQi"
      },
      "execution_count": 22,
      "outputs": []
    },
    {
      "cell_type": "code",
      "source": [
        "loss = history.history['loss']\n",
        "val_loss = history.history['val_loss']"
      ],
      "metadata": {
        "id": "FZf0WeYUpT-H"
      },
      "execution_count": 23,
      "outputs": []
    },
    {
      "cell_type": "code",
      "source": [
        "plt.plot(history.history['accuracy'])\n",
        "plt.plot(history.history['val_accuracy'])\n",
        "plt.title('Model accuracy')\n",
        "plt.ylabel('Accuracy')\n",
        "plt.xlabel('Epoch')\n",
        "plt.legend(['Train', 'Test'], loc='upper left')\n",
        "plt.show()"
      ],
      "metadata": {
        "colab": {
          "base_uri": "https://localhost:8080/",
          "height": 295
        },
        "id": "kwyb8XFepWkI",
        "outputId": "2bc9c377-a6d0-4e66-aa40-0179f5278262"
      },
      "execution_count": 24,
      "outputs": [
        {
          "output_type": "display_data",
          "data": {
            "text/plain": [
              "<Figure size 432x288 with 1 Axes>"
            ],
            "image/png": "[encoded data removed]"
          },
          "metadata": {
            "needs_background": "light"
          }
        }
      ]
    },
    {
      "cell_type": "code",
      "source": [
        "plt.plot(history.history['loss'])\n",
        "plt.plot(history.history['val_loss'])\n",
        "plt.title('Model loss')\n",
        "plt.ylabel('Loss')\n",
        "plt.xlabel('Epoch')\n",
        "plt.legend(['Train', 'Test'], loc='upper left')\n",
        "plt.show()"
      ],
      "metadata": {
        "colab": {
          "base_uri": "https://localhost:8080/",
          "height": 295
        },
        "id": "ssfO2ypmpY7x",
        "outputId": "992038b8-59ea-4f45-9e66-6c9643d754c8"
      },
      "execution_count": 25,
      "outputs": [
        {
          "output_type": "display_data",
          "data": {
            "text/plain": [
              "<Figure size 432x288 with 1 Axes>"
            ],
            "image/png": "[encoded data removed]"
          },
          "metadata": {
            "needs_background": "light"
          }
        }
      ]
    },
    {
      "cell_type": "code",
      "source": [
        ""
      ],
      "metadata": {
        "id": "BjxCDDuBrBWa"
      },
      "execution_count": null,
      "outputs": []
    }
  ]
}